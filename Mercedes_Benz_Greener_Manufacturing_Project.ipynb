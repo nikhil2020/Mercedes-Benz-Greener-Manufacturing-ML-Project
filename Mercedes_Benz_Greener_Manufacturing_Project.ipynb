{
  "nbformat": 4,
  "nbformat_minor": 0,
  "metadata": {
    "colab": {
      "name": "Mercedes-Benz-Greener-Manufacturing-Project.ipynb",
      "provenance": [],
      "authorship_tag": "ABX9TyO4FFH/O0nVK8s+qiYrvv6C",
      "include_colab_link": true
    },
    "kernelspec": {
      "name": "python3",
      "display_name": "Python 3"
    }
  },
  "cells": [
    {
      "cell_type": "markdown",
      "metadata": {
        "id": "view-in-github",
        "colab_type": "text"
      },
      "source": [
        "<a href=\"https://colab.research.google.com/github/nikhil2020/Mercedes-Benz-Greener-Manufacturing-Project/blob/master/Mercedes_Benz_Greener_Manufacturing_Project.ipynb\" target=\"_parent\"><img src=\"https://colab.research.google.com/assets/colab-badge.svg\" alt=\"Open In Colab\"/></a>"
      ]
    },
    {
      "cell_type": "code",
      "metadata": {
        "id": "pzI-tad78Fe4",
        "colab_type": "code",
        "colab": {
          "base_uri": "https://localhost:8080/",
          "height": 71
        },
        "outputId": "9a80a2aa-bca1-4c8e-df38-b7c2d6ee82e8"
      },
      "source": [
        "import time\n",
        "import random\n",
        "from math import * \n",
        "import operator \n",
        "import pandas as pd \n",
        "import numpy as np\n",
        "# import plotting libraries\n",
        "import matplotlib\n",
        "import matplotlib.pyplot as plt\n",
        "from pandas.plotting import scatter_matrix \n",
        "%matplotlib inline\n",
        "import seaborn as sns \n",
        "sns.set(style=\"white\", color_codes=True) \n",
        "sns.set(font_scale=1.5)\n",
        "# import the ML algorithm\n",
        "import statsmodels.formula.api as smf\n",
        "from sklearn.linear_model import LinearRegression #from pandas.core import datetools\n",
        "# import libraries for model validation\n",
        "from sklearn.model_selection import StratifiedKFold \n",
        "from sklearn.model_selection import cross_val_score \n",
        "from sklearn.model_selection import train_test_split\n",
        "# import libraries for metrics and reporting\n",
        "from sklearn.metrics import confusion_matrix\n",
        "from sklearn.metrics import classification_report \n",
        "from sklearn.metrics import accuracy_score\n",
        "from sklearn import metrics\n",
        "from statsmodels.tools.eval_measures import rmse \n",
        "import warnings\n",
        "warnings.filterwarnings('ignore')\n"
      ],
      "execution_count": 8,
      "outputs": [
        {
          "output_type": "stream",
          "text": [
            "/usr/local/lib/python3.6/dist-packages/statsmodels/tools/_testing.py:19: FutureWarning: pandas.util.testing is deprecated. Use the functions in the public API at pandas.testing instead.\n",
            "  import pandas.util.testing as tm\n"
          ],
          "name": "stderr"
        }
      ]
    },
    {
      "cell_type": "code",
      "metadata": {
        "id": "YJ5qfPQI8UWg",
        "colab_type": "code",
        "colab": {}
      },
      "source": [
        " df = pd.read_csv('train.csv')"
      ],
      "execution_count": null,
      "outputs": []
    }
  ]
}